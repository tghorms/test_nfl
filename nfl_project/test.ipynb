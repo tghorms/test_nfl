{
 "nbformat": 4,
 "nbformat_minor": 2,
 "metadata": {
  "language_info": {
   "name": "python",
   "codemirror_mode": {
    "name": "ipython",
    "version": 3
   },
   "version": "3.6.9"
  },
  "orig_nbformat": 2,
  "file_extension": ".py",
  "mimetype": "text/x-python",
  "name": "python",
  "npconvert_exporter": "python",
  "pygments_lexer": "ipython3",
  "version": 3
 },
 "cells": [
  {
   "source": [
    "import csv\n",
    "from numpy import loadtxt\n",
    "import os\n",
    "import numpy as np\n",
    ""
   ],
   "cell_type": "code",
   "outputs": [],
   "metadata": {},
   "execution_count": 1
  },
  {
   "cell_type": "code",
   "execution_count": null,
   "metadata": {},
   "outputs": [],
   "source": []
  },
  {
   "source": [
    "os.getcwd() "
   ],
   "cell_type": "code",
   "outputs": [],
   "metadata": {},
   "execution_count": 0
  },
  {
   "source": [
    "1\n",
    "os.chdir('/Users/Vince/Desktop/tommy-up-to-date/test_nfl/nfl_project')"
   ],
   "cell_type": "code",
   "outputs": [],
   "metadata": {},
   "execution_count": 0
  },
  {
   "cell_type": "code",
   "execution_count": null,
   "metadata": {},
   "outputs": [],
   "source": []
  },
  {
   "source": [
    "stats = ''\n",
    "TeamH='Arizona Cardinals'\n",
    "TeamA='Baltimore Ravens'\n",
    "with open('./static/resources/2019-Team-Metrics-Final.csv') as csvfile:\n",
    "        readCSV = csv.reader(csvfile, delimiter=',')\n",
    "        for row in readCSV:\n",
    "            if row [0] == TeamH:\n",
    "                stats = ','.join(row[1:])\n",
    "                # print(row)\n",
    "\n",
    "with open('./static/resources/2019-Team-Metrics-Final.csv') as csvfile:\n",
    "        readCSV = csv.reader(csvfile, delimiter=',')\n",
    "        for row in readCSV:\n",
    "            if row [0] == TeamA:\n",
    "                stats += ','+','.join(row[1:])\n",
    "                # print(row)\n",
    "        # print(stats)\n",
    "\n",
    "dataset = np.fromstring(stats, sep=',')\n",
    "print(dataset)\n",
    ""
   ],
   "cell_type": "code",
   "outputs": [
    {
     "output_type": "stream",
     "name": "stdout",
     "text": "[ 4.000e-02  7.000e-02  3.174e+01  2.060e+00  1.000e-01  7.000e-02\n  3.000e-02  5.890e+00  7.000e-01  2.200e-01  1.800e-01  3.900e-01\n  2.300e-01  1.230e+00  4.490e+00  4.500e-01 -3.770e+00  3.803e+01\n  2.410e+00  1.000e-01  4.000e-02  5.000e-02  6.560e+00  7.600e-01\n  2.800e-01  1.600e-01  3.400e-01  1.700e-01  1.740e+00  5.020e+00\n  6.000e-01 -1.390e+00  2.800e-01 -1.300e-01  4.177e+01  3.080e+00\n  9.000e-02  5.000e-02  4.000e-02  6.830e+00  7.900e-01  3.700e-01\n  1.800e-01  2.500e-01  1.300e-01  2.070e+00  5.450e+00  6.700e-01\n  6.960e+00  3.037e+01  1.670e+00  1.500e-01  8.000e-02  7.000e-02\n  5.890e+00  6.700e-01  1.700e-01  1.700e-01  4.000e-01  1.900e-01\n  1.000e+00  4.730e+00  4.800e-01  9.390e+00]\n"
    }
   ],
   "metadata": {},
   "execution_count": 26
  }
 ]
}